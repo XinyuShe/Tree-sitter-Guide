{
 "cells": [
  {
   "cell_type": "markdown",
   "id": "5271a406",
   "metadata": {},
   "source": [
    "1. 安装tree-sitter"
   ]
  },
  {
   "cell_type": "code",
   "execution_count": 1,
   "id": "05c2cdad",
   "metadata": {},
   "outputs": [],
   "source": [
    "# %pip install tree-sitter==0.23.2\n",
    "# %pip install tree-sitter-c==0.23.4 # 根据目标语言选择"
   ]
  },
  {
   "cell_type": "markdown",
   "id": "58e5b886",
   "metadata": {},
   "source": [
    "2. 初始化"
   ]
  },
  {
   "cell_type": "code",
   "execution_count": 2,
   "id": "a77278d9",
   "metadata": {},
   "outputs": [],
   "source": [
    "from tree_sitter import Language, Parser, Node\n",
    "import tree_sitter_c\n",
    "# 加载语言库\n",
    "language = Language(tree_sitter_c.language())\n",
    "parser = Parser(language)"
   ]
  },
  {
   "cell_type": "markdown",
   "id": "54ac4302",
   "metadata": {},
   "source": [
    "3. 分析代码\n",
    "    - 3.1 获得Tree_root_node\n",
    "    - 3.2 Query"
   ]
  },
  {
   "cell_type": "code",
   "execution_count": 3,
   "id": "a6d8d0ca",
   "metadata": {},
   "outputs": [],
   "source": [
    "Code = \"\"\"\n",
    "#include <stdio.h>\n",
    "\n",
    "// 函数声明\n",
    "void print_hello();\n",
    "int add(int a, int b);\n",
    "int subtract(int a, int b);\n",
    "void swap(int *a, int *b);\n",
    "\n",
    "int main() {\n",
    "    // 调用 print_hello 函数\n",
    "    print_hello();\n",
    "\n",
    "    // 调用 add 和 subtract 函数\n",
    "    int num1 = 10;\n",
    "    int num2 = 5;\n",
    "    int sum = add(num1, num2);\n",
    "    int difference = subtract(num1, num2);\n",
    "\n",
    "    printf(\"Sum of %d and %d is: %d\\n\", num1, num2, sum);\n",
    "    printf(\"Difference between %d and %d is: %d\\n\", num1, num2, difference);\n",
    "\n",
    "    // 调用 swap 函数\n",
    "    int x = 100;\n",
    "    int y = 200;\n",
    "    printf(\"Before swap: x = %d, y = %d\\n\", x, y);\n",
    "    swap(&x, &y);\n",
    "    printf(\"After swap: x = %d, y = %d\\n\", x, y);\n",
    "\n",
    "    return 0;\n",
    "}\n",
    "\n",
    "// 函数定义\n",
    "void print_hello() {\n",
    "    printf(\"Hello, World!\\n\");\n",
    "}\n",
    "\n",
    "int add(int a, int b) {\n",
    "    return a + b;\n",
    "}\n",
    "\n",
    "int subtract(int a, int b) {\n",
    "    return a - b;\n",
    "}\n",
    "\n",
    "void swap(int *a, int *b) {\n",
    "    int temp = *a;\n",
    "    *a = *b;\n",
    "    *b = temp;\n",
    "}\n",
    "\"\"\"\n",
    "tree = parser.parse(bytes(Code,'utf8'))\n",
    "root_node = tree.root_node"
   ]
  },
  {
   "cell_type": "code",
   "execution_count": 10,
   "id": "5df5ff16",
   "metadata": {},
   "outputs": [
    {
     "name": "stdout",
     "output_type": "stream",
     "text": [
      "---------------decl_id--------------\n",
      "print_hello\n",
      "subtract\n",
      "swap\n",
      "add\n",
      "---------------func_id--------------\n",
      "main\n",
      "subtract\n",
      "print_hello\n",
      "add\n",
      "swap\n"
     ]
    }
   ],
   "source": [
    "Query = language.query(\"\"\"\n",
    "    (function_definition\n",
    "        (function_declarator\n",
    "            (identifier)@func_id\n",
    "        )\n",
    "    )\n",
    "\n",
    "    (declaration\n",
    "        (function_declarator\n",
    "            (identifier)@decl_id \n",
    "        )\n",
    "    )\n",
    "\"\"\") # 以搜索函数名举例\n",
    "captures = Query.captures(root_node) # 选择想搜索的节点，这里以根节点为例\n",
    "for capture_pattern, node_list in captures.items():\n",
    "    print(f\"---------------{capture_pattern}--------------\")\n",
    "    for node in node_list:\n",
    "        func_id = node.text.decode()\n",
    "        function = node.parent.parent # 网上找两个节点，可以得到函数整体的节点\n",
    "        print(func_id)"
   ]
  },
  {
   "cell_type": "code",
   "execution_count": 12,
   "id": "9bc5efce",
   "metadata": {},
   "outputs": [
    {
     "name": "stdout",
     "output_type": "stream",
     "text": [
      "---------------decl_id--------------\n",
      "int add(int a, int b);\n",
      "---------------func_id--------------\n",
      "int add(int a, int b) {\n",
      "    return a + b;\n",
      "}\n"
     ]
    }
   ],
   "source": [
    "# 如果想要搜索特定id的节点\n",
    "identifier = \"add\"\n",
    "Query = language.query(f\"\"\"\n",
    "    (function_definition\n",
    "        (function_declarator\n",
    "            (identifier)@func_id\n",
    "            (#eq? @func_id \"{identifier}\")\n",
    "        )\n",
    "    )\n",
    "\n",
    "    (declaration\n",
    "        (function_declarator\n",
    "            (identifier)@decl_id \n",
    "            (#eq? @decl_id \"{identifier}\")\n",
    "        )\n",
    "    )\n",
    "\"\"\")\n",
    "captures = Query.captures(root_node)\n",
    "for capture_pattern, node_list in captures.items():\n",
    "    print(f\"---------------{capture_pattern}--------------\")\n",
    "    for node in node_list:\n",
    "        print(node.parent.parent.text.decode())"
   ]
  }
 ],
 "metadata": {
  "kernelspec": {
   "display_name": "starcoder2",
   "language": "python",
   "name": "python3"
  },
  "language_info": {
   "codemirror_mode": {
    "name": "ipython",
    "version": 3
   },
   "file_extension": ".py",
   "mimetype": "text/x-python",
   "name": "python",
   "nbconvert_exporter": "python",
   "pygments_lexer": "ipython3",
   "version": "3.11.8"
  }
 },
 "nbformat": 4,
 "nbformat_minor": 5
}
